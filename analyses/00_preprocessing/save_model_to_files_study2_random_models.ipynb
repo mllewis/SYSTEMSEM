{
 "cells": [
  {
   "cell_type": "markdown",
   "metadata": {},
   "source": [
    "# L2ETS Study 2\n"
   ]
  },
  {
   "cell_type": "markdown",
   "metadata": {},
   "source": [
    "Save data from ETS as feathers so can explore in R"
   ]
  },
  {
   "cell_type": "markdown",
   "metadata": {},
   "source": [
    "## Import and save gensim model"
   ]
  },
  {
   "cell_type": "code",
   "execution_count": 4,
   "metadata": {},
   "outputs": [
    {
     "name": "stderr",
     "output_type": "stream",
     "text": [
      "Slow version of gensim.models.doc2vec is being used\n"
     ]
    },
    {
     "name": "stdout",
     "output_type": "stream",
     "text": [
      "0.13.4\n"
     ]
    }
   ],
   "source": [
    "import gensim \n",
    "import gensim.models as g\n",
    "print(gensim.__version__)"
   ]
  },
  {
   "cell_type": "code",
   "execution_count": 29,
   "metadata": {},
   "outputs": [
    {
     "data": {
      "text/plain": [
       "['/Users/mollylewis/Documents/research/Projects/1_in_progress/L2ETS/studies/study2/analyses/preprocessing',\n",
       " '/Users/mollylewis/.pyenv/versions/3.7.4/lib/python37.zip',\n",
       " '/Users/mollylewis/.pyenv/versions/3.7.4/lib/python3.7',\n",
       " '/Users/mollylewis/.pyenv/versions/3.7.4/lib/python3.7/lib-dynload',\n",
       " '',\n",
       " '/Users/mollylewis/.pyenv/versions/3.7.4/lib/python3.7/site-packages',\n",
       " '/Users/mollylewis/.pyenv/versions/3.7.4/lib/python3.7/site-packages/IPython/extensions',\n",
       " '/Users/mollylewis/.ipython']"
      ]
     },
     "execution_count": 29,
     "metadata": {},
     "output_type": "execute_result"
    }
   ],
   "source": [
    "\n",
    "\n",
    "import pandas as pd\n",
    "import numpy as np\n",
    "#import feather as f\n",
    "import pickle\n",
    "import os\n",
    "import sys\n",
    "sys.path"
   ]
  },
  {
   "cell_type": "code",
   "execution_count": 7,
   "metadata": {},
   "outputs": [
    {
     "name": "stderr",
     "output_type": "stream",
     "text": [
      "/Users/mollylewis/.pyenv/versions/3.7.4/lib/python3.7/site-packages/smart_open/smart_open_lib.py:398: UserWarning: This function is deprecated, use smart_open.open instead. See the migration notes for details: https://github.com/RaRe-Technologies/smart_open/blob/master/README.rst#migrating-to-the-new-open-function\n",
      "  'See the migration notes for details: %s' % _MIGRATION_NOTES_URL\n"
     ]
    }
   ],
   "source": [
    "mod = g.Doc2Vec.load(\"../../data/raw/models/random/random-0.model\")"
   ]
  },
  {
   "cell_type": "markdown",
   "metadata": {},
   "source": [
    "There are 38500 essays with vectors of length 200."
   ]
  },
  {
   "cell_type": "code",
   "execution_count": 9,
   "metadata": {},
   "outputs": [
    {
     "name": "stdout",
     "output_type": "stream",
     "text": [
      "\n",
      "shape=(1085, 200)\n"
     ]
    }
   ],
   "source": [
    "print(\"\\nshape=\" + str(mod.docvecs.doctag_syn0.shape))"
   ]
  },
  {
   "cell_type": "markdown",
   "metadata": {},
   "source": [
    "# Doc vectors"
   ]
  },
  {
   "cell_type": "markdown",
   "metadata": {},
   "source": [
    "### Save doc vector indices so can merge with meta data"
   ]
  },
  {
   "cell_type": "code",
   "execution_count": 34,
   "metadata": {},
   "outputs": [
    {
     "name": "stdout",
     "output_type": "stream",
     "text": [
      "random-0.model\n",
      "\n",
      "shape=(1085, 200)\n",
      "random-1.model\n",
      "\n",
      "shape=(1085, 200)\n",
      "random-10.model\n",
      "\n",
      "shape=(1085, 200)\n",
      "random-11.model\n",
      "\n",
      "shape=(1085, 200)\n",
      "random-12.model\n",
      "\n",
      "shape=(1085, 200)\n",
      "random-13.model\n",
      "\n",
      "shape=(1085, 200)\n",
      "random-14.model\n",
      "\n",
      "shape=(1085, 200)\n",
      "random-15.model\n",
      "\n",
      "shape=(1085, 200)\n",
      "random-16.model\n",
      "\n",
      "shape=(1085, 200)\n",
      "random-17.model\n",
      "\n",
      "shape=(1085, 200)\n",
      "random-18.model\n",
      "\n",
      "shape=(1085, 200)\n",
      "random-19.model\n",
      "\n",
      "shape=(1085, 200)\n",
      "random-2.model\n",
      "\n",
      "shape=(1085, 200)\n",
      "random-20.model\n",
      "\n",
      "shape=(1085, 200)\n",
      "random-21.model\n",
      "\n",
      "shape=(1085, 200)\n",
      "random-22.model\n",
      "\n",
      "shape=(1085, 200)\n",
      "random-23.model\n",
      "\n",
      "shape=(1085, 200)\n",
      "random-24.model\n",
      "\n",
      "shape=(1085, 200)\n",
      "random-25.model\n",
      "\n",
      "shape=(1085, 200)\n",
      "random-26.model\n",
      "\n",
      "shape=(1085, 200)\n",
      "random-27.model\n",
      "\n",
      "shape=(1085, 200)\n",
      "random-28.model\n",
      "\n",
      "shape=(1085, 200)\n",
      "random-29.model\n",
      "\n",
      "shape=(1085, 200)\n",
      "random-3.model\n",
      "\n",
      "shape=(1085, 200)\n",
      "random-30.model\n",
      "\n",
      "shape=(1085, 200)\n",
      "random-31.model\n",
      "\n",
      "shape=(1085, 200)\n",
      "random-32.model\n",
      "\n",
      "shape=(1085, 200)\n",
      "random-33.model\n",
      "\n",
      "shape=(1085, 200)\n",
      "random-34.model\n",
      "\n",
      "shape=(1085, 200)\n",
      "random-4.model\n",
      "\n",
      "shape=(1085, 200)\n",
      "random-5.model\n",
      "\n",
      "shape=(1085, 200)\n",
      "random-6.model\n",
      "\n",
      "shape=(1085, 200)\n",
      "random-7.model\n",
      "\n",
      "shape=(1085, 200)\n",
      "random-8.model\n",
      "\n",
      "shape=(1085, 200)\n",
      "random-9.model\n",
      "\n",
      "shape=(1085, 200)\n"
     ]
    }
   ],
   "source": [
    "directory_string = \"../../data/raw/models/random/\"\n",
    "directory = os.fsencode(directory_string)\n",
    "\n",
    "for file in os.listdir(directory)[1:36]:\n",
    "    filename = os.fsdecode(file)\n",
    "    print(filename)\n",
    "    \n",
    "    mod = g.Doc2Vec.load(directory_string+filename)\n",
    "    print(\"\\nshape=\" + str(mod.docvecs.doctag_syn0.shape))\n",
    "    \n",
    "    all_doct_tags = pd.DataFrame()\n",
    "    doctag_ids_for_R = all_doct_tags.from_dict(mod.docvecs.doctags).T\n",
    "    doctag_ids_for_R.columns = ['offset', 'word_count', 'doc_count']\n",
    "    doctag_ids_for_R.index.name = 'essay_id'\n",
    "    doctag_ids_for_R.reset_index(inplace = True)\n",
    "    doctag_ids_for_R.to_csv( \"../../data/processed/models/random/doctag_indices_\" + filename + \".csv\")\n",
    "\n",
    "\n",
    "    docvecs_for_R = pd.DataFrame(mod.docvecs.doctag_syn0)\n",
    "    docvecs_for_R.to_csv(\"../../data/processed/models/random/docvecs_\" + filename + \".csv\")\n"
   ]
  },
  {
   "cell_type": "markdown",
   "metadata": {},
   "source": [
    "# Word Vectors"
   ]
  },
  {
   "cell_type": "code",
   "execution_count": 35,
   "metadata": {},
   "outputs": [
    {
     "name": "stdout",
     "output_type": "stream",
     "text": [
      "random-0.model\n",
      "random-1.model\n",
      "random-10.model\n",
      "random-11.model\n",
      "random-12.model\n",
      "random-13.model\n",
      "random-14.model\n",
      "random-15.model\n",
      "random-16.model\n",
      "random-17.model\n",
      "random-18.model\n",
      "random-19.model\n",
      "random-2.model\n",
      "random-20.model\n",
      "random-21.model\n",
      "random-22.model\n",
      "random-23.model\n",
      "random-24.model\n",
      "random-25.model\n",
      "random-26.model\n",
      "random-27.model\n",
      "random-28.model\n",
      "random-29.model\n",
      "random-3.model\n",
      "random-30.model\n",
      "random-31.model\n",
      "random-32.model\n",
      "random-33.model\n",
      "random-34.model\n",
      "random-4.model\n",
      "random-5.model\n",
      "random-6.model\n",
      "random-7.model\n",
      "random-8.model\n",
      "random-9.model\n"
     ]
    }
   ],
   "source": [
    "\n",
    "for file in os.listdir(directory)[1:36]:\n",
    "    filename = os.fsdecode(file)\n",
    "    print(filename)\n",
    "    \n",
    "    mod = g.Doc2Vec.load(directory_string+filename)\n",
    "    \n",
    "    wordvecs_for_R = pd.DataFrame(mod.wv.syn0)\n",
    "    wordvecs_for_R.to_csv(\"../../data/processed/models/random/wordvecs_\" + filename + \".csv\")   \n",
    "    \n",
    "    all_words = pd.DataFrame(mod.wv.index2word)\n",
    "    all_words.to_csv(\"../../data/processed/models/random/words_\" + filename + \".csv\")\n",
    "    \n",
    "    \n",
    "    "
   ]
  }
 ],
 "metadata": {
  "kernelspec": {
   "display_name": "Python 3",
   "language": "python",
   "name": "python3"
  },
  "language_info": {
   "codemirror_mode": {
    "name": "ipython",
    "version": 3
   },
   "file_extension": ".py",
   "mimetype": "text/x-python",
   "name": "python",
   "nbconvert_exporter": "python",
   "pygments_lexer": "ipython3",
   "version": "3.7.4"
  }
 },
 "nbformat": 4,
 "nbformat_minor": 2
}
